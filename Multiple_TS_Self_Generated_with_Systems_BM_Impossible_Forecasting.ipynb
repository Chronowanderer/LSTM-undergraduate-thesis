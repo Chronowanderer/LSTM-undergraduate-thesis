{
 "cells": [
  {
   "cell_type": "code",
   "execution_count": 1,
   "metadata": {},
   "outputs": [
    {
     "name": "stderr",
     "output_type": "stream",
     "text": [
      "/Users/chronowanderer/anaconda3/envs/tensorflow/lib/python2.7/site-packages/h5py/__init__.py:36: FutureWarning: Conversion of the second argument of issubdtype from `float` to `np.floating` is deprecated. In future, it will be treated as `np.float64 == np.dtype(float).type`.\n",
      "  from ._conv import register_converters as _register_converters\n",
      "Using TensorFlow backend.\n"
     ]
    }
   ],
   "source": [
    "import numpy\n",
    "import matplotlib.pyplot as plt\n",
    "import pandas as pd\n",
    "import math\n",
    "from keras.models import Sequential\n",
    "from keras.layers import Dense\n",
    "from keras.layers import LSTM\n",
    "from sklearn.preprocessing import MinMaxScaler\n",
    "from sklearn.metrics import mean_squared_error\n",
    "from sklearn.linear_model import LinearRegression\n",
    "%matplotlib inline  \n"
   ]
  },
  {
   "cell_type": "code",
   "execution_count": 2,
   "metadata": {},
   "outputs": [],
   "source": [
    "TIME_STEPS = 100\n",
    "HIDDEN_UNITS = 128\n",
    "INPUT_UNITS = 2\n",
    "OUTPUT_UNITS = 2\n",
    "BATCH_SIZE = 64\n",
    "TRAIN_SIZE = 1000\n",
    "EFFECTIVE_COEFFICIENT = 1.0\n",
    "EFFECTIVE_LOC = int(TRAIN_SIZE / EFFECTIVE_COEFFICIENT)\n",
    "EPOCH = 10\n",
    "look_back = TIME_STEPS\n"
   ]
  },
  {
   "cell_type": "code",
   "execution_count": 3,
   "metadata": {},
   "outputs": [],
   "source": [
    "def atan_positive(x, y):\n",
    "    if (x > 0) & (y > 0):\n",
    "        theta = math.atan(y / x)\n",
    "    elif (x == 0) & (y > 0):\n",
    "        theta = math.pi / 2\n",
    "    elif (x < 0):\n",
    "        theta = math.pi + math.atan(y / x)\n",
    "    elif (x == 0) & (y < 0):\n",
    "        theta = 3 * math.pi / 2\n",
    "    elif (x > 0) & (y <= 0):\n",
    "        theta = 2 * math.pi + math.atan(y / x)\n",
    "    return theta\n",
    "\n",
    "def brwnm2(mu1, mu2, a, sigma, h, lentmax):\n",
    "    locRT = 0\n",
    "    theta_T = 999\n",
    "    x = mu1 * h + sigma * numpy.random.randn(lentmax) * math.sqrt(h)\n",
    "    y = mu2 * h + sigma * numpy.random.randn(lentmax) * math.sqrt(h)\n",
    "    a_r = a - math.sqrt(h) * sigma / 2.0\n",
    "    x_start = 0.0\n",
    "    y_start = 0.0\n",
    "    w = [x_start]\n",
    "    z = [y_start] \n",
    "    flag = 0\n",
    "    for k in numpy.arange(1, lentmax):\n",
    "        w.append(w[k - 1] + x[k])\n",
    "        z.append(z[k - 1] + y[k])\n",
    "        if (flag == 0) & (w[k] ** 2 + z[k] ** 2 >= a_r ** 2):\n",
    "            locRT = k\n",
    "            theta_T = atan_positive(w[k], z[k]) / 2.0\n",
    "            flag = 1\n",
    "    return (w, z, theta_T, locRT)\n"
   ]
  },
  {
   "cell_type": "code",
   "execution_count": 4,
   "metadata": {},
   "outputs": [],
   "source": [
    "def semicircular_error(r, t):\n",
    "    e = r - t\n",
    "    if e >= 90:\n",
    "        e = e - 180\n",
    "    elif e < -90:\n",
    "        e = e + 180\n",
    "    return e\n"
   ]
  },
  {
   "cell_type": "code",
   "execution_count": 5,
   "metadata": {},
   "outputs": [
    {
     "name": "stdout",
     "output_type": "stream",
     "text": [
      "(2000, 2)\n"
     ]
    }
   ],
   "source": [
    "numSeries = 1 # training & testing & sequently predicting\n",
    "numPredict = 10 # complete prediction\n",
    "tmax = 2.0\n",
    "h = 0.001\n",
    "lentmax = int(tmax / h)\n",
    "T = numpy.linspace(0, tmax, lentmax, endpoint = False)\n",
    "DATA_i = 0\n",
    "DATA_f = lentmax - 1\n",
    "norm, a, sigma = [], [], []\n",
    "Target, Response, Error, RTloc = [], [], [], []\n",
    "Dat = []\n",
    "\n",
    "i = 0\n",
    "while i < (numSeries + numPredict):\n",
    "    '''\n",
    "    norm0 = numpy.random.uniform(0.1, 10)\n",
    "    a0 = numpy.random.uniform(0.1, 10)\n",
    "    sigma0 = numpy.random.uniform(0.1, 10)\n",
    "    RESP = numpy.random.randint(0, 180)\n",
    "    '''\n",
    "    norm0 = 1.0\n",
    "    a0 = 1.0\n",
    "    sigma0 = 0.1\n",
    "    RESP = 60\n",
    "    if RESP == 0:\n",
    "        RESP = 180;\n",
    "    mu1 = norm0 * math.cos(2 * RESP * math.pi / 180)\n",
    "    mu2 = norm0 * math.sin(2 * RESP * math.pi / 180)\n",
    "    (L_x, L_y, theta, t_loc) = brwnm2(mu1, mu2, a0, sigma0, h, lentmax)\n",
    "    if t_loc >= EFFECTIVE_LOC:\n",
    "        norm.append(norm0)\n",
    "        a.append(a0)\n",
    "        sigma.append(sigma0)\n",
    "        Target.append(RESP)\n",
    "        Response.append(theta / math.pi * 180)\n",
    "        Error.append(semicircular_error(theta / math.pi * 180, RESP))\n",
    "        RTloc.append(t_loc)\n",
    "        temp = []\n",
    "        for j in numpy.arange(lentmax):\n",
    "            temp.append([L_x[j], L_y[j]])\n",
    "        Dat.append(temp)\n",
    "        i = i + 1\n",
    "\n",
    "Dat = numpy.array(Dat) # all data\n",
    "Data = Dat[0 : numSeries, :, :] # training & testing & sequently predicting\n",
    "Data_p = Dat[numSeries : numSeries + numPredict, :, :] # complete prediction\n",
    "\n",
    "dataset = []\n",
    "for i in numpy.arange(numSeries):\n",
    "    for j in numpy.arange(lentmax):\n",
    "        dataset.append(Data[i, j])\n",
    "dataset = numpy.array(dataset)\n",
    "\n",
    "print dataset.shape\n"
   ]
  },
  {
   "cell_type": "code",
   "execution_count": 6,
   "metadata": {},
   "outputs": [],
   "source": [
    "# normalize the dataset\n",
    "scaler = MinMaxScaler(feature_range=(0, 1))\n",
    "dataset = scaler.fit_transform(dataset)\n"
   ]
  },
  {
   "cell_type": "code",
   "execution_count": 7,
   "metadata": {},
   "outputs": [
    {
     "name": "stdout",
     "output_type": "stream",
     "text": [
      "(1000, 2) (1100, 2)\n",
      "(900, 100, 2) (900, 2)\n",
      "(1, 100, 2) (1, 2)\n",
      "(1000, 2)\n"
     ]
    }
   ],
   "source": [
    "TOTAL_TIME = Data.shape[1]\n",
    "\n",
    "# split into train and test sets\n",
    "train_size = TRAIN_SIZE\n",
    "test_size = TOTAL_TIME - train_size + look_back\n",
    "train, test = [], []\n",
    "for k in range(numSeries):\n",
    "    kk = k * TOTAL_TIME\n",
    "    for t in range(kk, kk+train_size):\n",
    "        train.append(dataset[t, :])\n",
    "    for t in range(kk+train_size-look_back, kk+TOTAL_TIME):\n",
    "        test.append(dataset[t, :])\n",
    "train = numpy.array(train)\n",
    "test = numpy.array(test)\n",
    "        \n",
    "print train.shape, test.shape\n",
    "\n",
    "# use this function to prepare the train and test datasets for modeling\n",
    "trainX, trainY, testX, testY, predictY = [], [], [], [], []\n",
    "for k in range(numSeries):\n",
    "    kk = k * train_size\n",
    "    for i in range(train_size - look_back):\n",
    "        temp = train[(kk + i) : (kk + i + look_back), :]\n",
    "        trainX.append(temp)\n",
    "        trainY.append(train[kk + i + look_back, :])\n",
    "    kk = k * test_size\n",
    "    testX.append(test[kk : (kk + look_back), :])\n",
    "    testY.append(test[kk + look_back, :])\n",
    "    for i in range(look_back, test_size):\n",
    "        predictY.append(test[kk + i, :])\n",
    "trainX = numpy.array(trainX)\n",
    "trainY = numpy.array(trainY)\n",
    "testX = numpy.array(testX)\n",
    "testY = numpy.array(testY)\n",
    "predictY = numpy.array(predictY)\n",
    "\n",
    "# reshape input to be [samples, time steps, features]\n",
    "trainX = numpy.reshape(trainX, (trainX.shape[0], look_back, trainX.shape[2]))\n",
    "testX = numpy.reshape(testX, (testX.shape[0], look_back, testX.shape[2]))\n",
    "\n",
    "print trainX.shape, trainY.shape\n",
    "print testX.shape, testY.shape\n",
    "print predictY.shape\n"
   ]
  },
  {
   "cell_type": "code",
   "execution_count": 8,
   "metadata": {},
   "outputs": [
    {
     "name": "stdout",
     "output_type": "stream",
     "text": [
      "Epoch 1/10\n",
      " - 3s - loss: 0.1160\n",
      "Epoch 2/10\n",
      " - 2s - loss: 0.0119\n",
      "Epoch 3/10\n",
      " - 2s - loss: 0.0022\n",
      "Epoch 4/10\n",
      " - 2s - loss: 6.2295e-04\n",
      "Epoch 5/10\n",
      " - 2s - loss: 1.5122e-04\n",
      "Epoch 6/10\n",
      " - 2s - loss: 6.0358e-05\n",
      "Epoch 7/10\n",
      " - 2s - loss: 4.9687e-05\n",
      "Epoch 8/10\n",
      " - 2s - loss: 4.5657e-05\n",
      "Epoch 9/10\n",
      " - 2s - loss: 4.3429e-05\n",
      "Epoch 10/10\n",
      " - 2s - loss: 4.3296e-05\n"
     ]
    },
    {
     "data": {
      "text/plain": [
       "<keras.callbacks.History at 0x1a1bfdc850>"
      ]
     },
     "execution_count": 8,
     "metadata": {},
     "output_type": "execute_result"
    }
   ],
   "source": [
    "# create and fit the LSTM network\n",
    "model = Sequential()\n",
    "model.add(LSTM(HIDDEN_UNITS, input_shape=(look_back, INPUT_UNITS)))\n",
    "model.add(Dense(OUTPUT_UNITS))\n",
    "model.compile(loss='mean_squared_error', optimizer='adam')\n",
    "model.fit(trainX, trainY, epochs = EPOCH, batch_size = BATCH_SIZE, verbose = 2)\n"
   ]
  },
  {
   "cell_type": "code",
   "execution_count": 9,
   "metadata": {},
   "outputs": [
    {
     "name": "stdout",
     "output_type": "stream",
     "text": [
      "(1000, 2)\n"
     ]
    }
   ],
   "source": [
    "# make predictions\n",
    "trainPredict = model.predict(trainX)\n",
    "testPredict = model.predict(testX)\n",
    "predictPredict = []\n",
    "for i in range(numSeries):\n",
    "    X_temp = testX[i]\n",
    "    X_temp = numpy.reshape(X_temp, (1, look_back, OUTPUT_UNITS))\n",
    "    for t in range(test_size - look_back):\n",
    "        Y_temp = model.predict(X_temp)\n",
    "        predictPredict.append(Y_temp[0])\n",
    "        for l in range(look_back - 1):\n",
    "            X_temp[0, l] = X_temp[0, l + 1]\n",
    "        X_temp[0, look_back - 1] = Y_temp[0]\n",
    "predictPredict = numpy.array(predictPredict)\n",
    "print predictPredict.shape\n"
   ]
  },
  {
   "cell_type": "code",
   "execution_count": 10,
   "metadata": {},
   "outputs": [
    {
     "name": "stdout",
     "output_type": "stream",
     "text": [
      "Train Score: 0.0091 RMSE\n",
      "Test Score: 0.0116 RMSE\n",
      "Predict Score: 0.4546 RMSE\n"
     ]
    }
   ],
   "source": [
    "# invert predictions\n",
    "trainPredict = scaler.inverse_transform(trainPredict)\n",
    "trainY = scaler.inverse_transform(trainY)\n",
    "testPredict = scaler.inverse_transform(testPredict)\n",
    "testY = scaler.inverse_transform(testY)\n",
    "predictPredict = scaler.inverse_transform(predictPredict)\n",
    "predictY = scaler.inverse_transform(predictY)\n",
    "\n",
    "trainScore = math.sqrt(mean_squared_error(trainY, trainPredict))\n",
    "print('Train Score: %.4f RMSE' % (trainScore))\n",
    "testScore = math.sqrt(mean_squared_error(testY, testPredict))\n",
    "print('Test Score: %.4f RMSE' % (testScore))\n",
    "predictScore = math.sqrt(mean_squared_error(predictY, predictPredict))\n",
    "print('Predict Score: %.4f RMSE' % (predictScore))\n"
   ]
  },
  {
   "cell_type": "code",
   "execution_count": 11,
   "metadata": {},
   "outputs": [],
   "source": [
    "# shift train predictions for plotting\n",
    "trainPredictPlot = numpy.empty_like(Data)\n",
    "trainPredictPlot[:, :, :] = numpy.nan\n",
    "for s in range(numSeries):\n",
    "    for t in range(train_size - look_back):\n",
    "        trainPredictPlot[s, t + look_back, :] = trainPredict[t + s * (TRAIN_SIZE - look_back), :]\n",
    "\n",
    "# shift complete predictions for plotting\n",
    "predictPredictPlot = numpy.empty_like(Data)\n",
    "predictPredictPlot[:, :, :] = numpy.nan\n",
    "for s in range(numSeries):\n",
    "    for t in range(test_size - look_back):\n",
    "        predictPredictPlot[s, t + TRAIN_SIZE, :] = predictPredict[t + s * (test_size - look_back), :]\n"
   ]
  },
  {
   "cell_type": "code",
   "execution_count": 14,
   "metadata": {},
   "outputs": [
    {
     "data": {
      "image/png": "[encoded data removed]",
      "text/plain": [
       "<Figure size 432x288 with 1 Axes>"
      ]
     },
     "metadata": {},
     "output_type": "display_data"
    }
   ],
   "source": [
    "lll = 0\n",
    "plt.plot(trainPredictPlot[lll])\n",
    "plt.plot(predictPredictPlot[lll])\n",
    "plt.xlim(0, 1500)\n",
    "plt.show()\n"
   ]
  },
  {
   "cell_type": "code",
   "execution_count": 13,
   "metadata": {},
   "outputs": [
    {
     "name": "stdout",
     "output_type": "stream",
     "text": [
      "0\n"
     ]
    },
    {
     "ename": "ZeroDivisionError",
     "evalue": "integer division or modulo by zero",
     "output_type": "error",
     "traceback": [
      "\u001b[0;31m---------------------------------------------------------------------------\u001b[0m",
      "\u001b[0;31mZeroDivisionError\u001b[0m                         Traceback (most recent call last)",
      "\u001b[0;32m<ipython-input-13-87ff57073628>\u001b[0m in \u001b[0;36m<module>\u001b[0;34m()\u001b[0m\n\u001b[1;32m     32\u001b[0m \u001b[0;32mfor\u001b[0m \u001b[0mi\u001b[0m \u001b[0;32min\u001b[0m \u001b[0mrange\u001b[0m\u001b[0;34m(\u001b[0m\u001b[0;34m(\u001b[0m\u001b[0mlen\u001b[0m\u001b[0;34m(\u001b[0m\u001b[0mObserved_error\u001b[0m\u001b[0;34m)\u001b[0m\u001b[0;34m)\u001b[0m\u001b[0;34m)\u001b[0m\u001b[0;34m:\u001b[0m\u001b[0;34m\u001b[0m\u001b[0m\n\u001b[1;32m     33\u001b[0m     \u001b[0mErr\u001b[0m\u001b[0;34m[\u001b[0m\u001b[0mi\u001b[0m\u001b[0;34m]\u001b[0m \u001b[0;34m=\u001b[0m \u001b[0;34m(\u001b[0m\u001b[0msemicircular_error\u001b[0m\u001b[0;34m(\u001b[0m\u001b[0mEstimated_error\u001b[0m\u001b[0;34m[\u001b[0m\u001b[0mi\u001b[0m\u001b[0;34m]\u001b[0m\u001b[0;34m,\u001b[0m \u001b[0mObserved_error\u001b[0m\u001b[0;34m[\u001b[0m\u001b[0mi\u001b[0m\u001b[0;34m]\u001b[0m\u001b[0;34m)\u001b[0m \u001b[0;34m*\u001b[0m \u001b[0mmath\u001b[0m\u001b[0;34m.\u001b[0m\u001b[0mpi\u001b[0m \u001b[0;34m/\u001b[0m \u001b[0;36m180\u001b[0m\u001b[0;34m)\u001b[0m \u001b[0;34m**\u001b[0m \u001b[0;36m2\u001b[0m\u001b[0;34m\u001b[0m\u001b[0m\n\u001b[0;32m---> 34\u001b[0;31m \u001b[0mResponsePredictionScore\u001b[0m \u001b[0;34m=\u001b[0m \u001b[0mmath\u001b[0m\u001b[0;34m.\u001b[0m\u001b[0msqrt\u001b[0m\u001b[0;34m(\u001b[0m\u001b[0msum\u001b[0m\u001b[0;34m(\u001b[0m\u001b[0mErr\u001b[0m\u001b[0;34m)\u001b[0m \u001b[0;34m/\u001b[0m \u001b[0mlen\u001b[0m\u001b[0;34m(\u001b[0m\u001b[0mErr\u001b[0m\u001b[0;34m)\u001b[0m\u001b[0;34m)\u001b[0m\u001b[0;34m\u001b[0m\u001b[0m\n\u001b[0m\u001b[1;32m     35\u001b[0m \u001b[0mRT0\u001b[0m \u001b[0;34m=\u001b[0m \u001b[0;34m[\u001b[0m\u001b[0mi\u001b[0m \u001b[0;34m*\u001b[0m \u001b[0mh\u001b[0m \u001b[0;32mfor\u001b[0m \u001b[0mi\u001b[0m \u001b[0;32min\u001b[0m \u001b[0mObserved_locRT\u001b[0m\u001b[0;34m]\u001b[0m\u001b[0;34m\u001b[0m\u001b[0m\n\u001b[1;32m     36\u001b[0m \u001b[0mRT\u001b[0m \u001b[0;34m=\u001b[0m \u001b[0;34m[\u001b[0m\u001b[0mi\u001b[0m \u001b[0;34m*\u001b[0m \u001b[0mh\u001b[0m \u001b[0;32mfor\u001b[0m \u001b[0mi\u001b[0m \u001b[0;32min\u001b[0m \u001b[0mEstimated_locRT\u001b[0m\u001b[0;34m]\u001b[0m\u001b[0;34m\u001b[0m\u001b[0m\n",
      "\u001b[0;31mZeroDivisionError\u001b[0m: integer division or modulo by zero"
     ]
    }
   ],
   "source": [
    "# Output the estimation score\n",
    "Observed_theta, Observed_error, Observed_locRT = [], [], []\n",
    "Estimated_theta, Estimated_error, Estimated_locRT = [], [], []\n",
    "for s in range(numSeries):\n",
    "    a_r = a[s] - math.sqrt(h) * sigma[s] / 2.0\n",
    "    for k in range(lentmax):\n",
    "        temp = trainPredictPlot[s, k, :]\n",
    "        if (temp[0] ** 2 + temp[1] ** 2 >= a_r ** 2):\n",
    "            Observed_locRT.append(RTloc[s])\n",
    "            Estimated_locRT.append(k)\n",
    "            Observed_theta.append(Response[s])\n",
    "            tt = atan_positive(temp[0], temp[1]) / 2.0 / math.pi * 180\n",
    "            Estimated_theta.append(tt)\n",
    "            Observed_error.append(Error[s])\n",
    "            Estimated_error.append(semicircular_error(tt, Target[s]))\n",
    "            break\n",
    "        temp = predictPredictPlot[s, k, :]\n",
    "        if (temp[0] ** 2 + temp[1] ** 2 >= a_r ** 2):\n",
    "            Observed_locRT.append(RTloc[s])\n",
    "            Estimated_locRT.append(k)\n",
    "            Observed_theta.append(Response[s])\n",
    "            tt = atan_positive(temp[0], temp[1]) / 2.0 / math.pi * 180\n",
    "            Estimated_theta.append(tt)\n",
    "            Observed_error.append(Error[s])\n",
    "            Estimated_error.append(semicircular_error(tt, Target[s]))\n",
    "            break\n",
    "print len(Observed_error)\n",
    "\n",
    "Res0 = [i * math.pi / 180 for i in Observed_error]\n",
    "Res = [i * math.pi / 180 for i in Estimated_error]\n",
    "Err = Res\n",
    "for i in range((len(Observed_error))):\n",
    "    Err[i] = (semicircular_error(Estimated_error[i], Observed_error[i]) * math.pi / 180) ** 2\n",
    "ResponsePredictionScore = math.sqrt(sum(Err) / len(Err))\n",
    "RT0 = [i * h for i in Observed_locRT]\n",
    "RT = [i * h for i in Estimated_locRT]\n",
    "RTPredictionScore = math.sqrt(mean_squared_error(RT0, RT))\n",
    "            \n",
    "print('Error Estimation Score: %.4f RMSE' % (ResponsePredictionScore))\n",
    "print('RT Estimation Score: %.4f RMSE' % (RTPredictionScore))\n"
   ]
  },
  {
   "cell_type": "code",
   "execution_count": null,
   "metadata": {},
   "outputs": [],
   "source": [
    "# plot Response Error and Reaction Time\n",
    "plt.figure(figsize=(10, 10))\n",
    "plt.style.use('ggplot')\n",
    "plt.xlim(-90, 90)\n",
    "plt.ylim(-90, 90)\n",
    "plt.scatter(Observed_error, Estimated_error, color = 'b')\n",
    "plt.xlabel(\"True Error\")  \n",
    "plt.ylabel(\"Estimated Error\")\n",
    "xx = numpy.linspace(-90, 90, 1000)\n",
    "yy = xx\n",
    "plt.plot(xx, yy, linewidth = 2, color = 'lightgrey')\n",
    "Observed_error = numpy.array(Observed_error)\n",
    "reg = LinearRegression().fit(Observed_error.reshape(-1, 1), Estimated_error)\n",
    "print('R^2 score for regression on Error: %.4f' % (reg.score(Observed_error.reshape(-1, 1), Estimated_error)))\n",
    "print('k = %.4f' % (reg.coef_))\n",
    "pred = reg.predict(Observed_error.reshape(-1, 1))\n",
    "plt.plot(Observed_error, pred, linewidth = 2, color = 'k')\n",
    "plt.show()\n",
    "\n",
    "plt.figure(figsize=(10, 10))\n",
    "plt.style.use('ggplot')\n",
    "plt.xlim(0, tmax)\n",
    "plt.ylim(0, tmax)\n",
    "plt.scatter(RT0, RT, color = 'b')\n",
    "plt.xlabel(\"True RT\")  \n",
    "plt.ylabel(\"Estimated RT\")\n",
    "xx = numpy.linspace(EFFECTIVE_LOC * h, tmax, 1000)\n",
    "yy = xx\n",
    "plt.plot(xx, yy, linewidth = 2, color = 'lightgrey')\n",
    "RT0 = numpy.array(RT0)\n",
    "reg = LinearRegression().fit(RT0.reshape(-1, 1), RT)\n",
    "print('R^2 score for regression on RT: %.4f' % (reg.score(RT0.reshape(-1, 1), RT)))\n",
    "print('k = %.4f' % (reg.coef_))\n",
    "pred = reg.predict(RT0.reshape(-1, 1))\n",
    "plt.plot(RT0, pred, linewidth = 2, color = 'k')\n",
    "plt.axvline((TRAIN_SIZE - 1) * h, linestyle=\"dashed\", linewidth = 2, color='g')\n",
    "plt.axvline(EFFECTIVE_LOC * h, linestyle=\"dashed\", linewidth = 2, color='r')\n",
    "plt.show()\n"
   ]
  },
  {
   "cell_type": "code",
   "execution_count": null,
   "metadata": {},
   "outputs": [],
   "source": [
    "dataset_p = []\n",
    "for i in numpy.arange(numPredict):\n",
    "    for j in numpy.arange(lentmax):\n",
    "        dataset_p.append(Data_p[i, j])\n",
    "dataset_p = numpy.array(dataset_p)\n",
    "print dataset_p.shape\n",
    "\n",
    "dataset_p = scaler.fit_transform(dataset_p)\n",
    "P_predictY = []\n",
    "for k in range(numPredict):\n",
    "    kk = k * (TOTAL_TIME - look_back)\n",
    "    for i in range(look_back, TOTAL_TIME):\n",
    "        P_predictY.append(dataset_p[kk + i, :])\n",
    "P_predictY = numpy.array(P_predictY)\n",
    "print P_predictY.shape\n",
    "\n",
    "P_predict = []\n",
    "for i in range(numPredict):\n",
    "    kk = i * lentmax\n",
    "    X_temp = dataset_p[kk : (kk + look_back), :]\n",
    "    X_temp = numpy.reshape(X_temp, (1, look_back, OUTPUT_UNITS))\n",
    "    for t in range(TOTAL_TIME - look_back):\n",
    "        Y_temp = model.predict(X_temp)\n",
    "        P_predict.append(Y_temp[0])\n",
    "        for l in range(look_back - 1):\n",
    "            X_temp[0, l] = X_temp[0, l + 1]\n",
    "        X_temp[0, look_back - 1] = Y_temp\n",
    "P_predict = numpy.array(P_predict)\n",
    "print P_predict.shape\n"
   ]
  },
  {
   "cell_type": "code",
   "execution_count": null,
   "metadata": {},
   "outputs": [],
   "source": [
    "P_predictY = scaler.inverse_transform(P_predictY)\n",
    "P_predict = scaler.inverse_transform(P_predict)\n",
    "P_predictScore = math.sqrt(mean_squared_error(P_predictY, P_predict))\n",
    "print('Fully-Predict Score: %.4f RMSE' % (P_predictScore))\n"
   ]
  },
  {
   "cell_type": "code",
   "execution_count": null,
   "metadata": {},
   "outputs": [],
   "source": [
    "ppPredictPlot = numpy.empty_like(Data_p)\n",
    "ppPredictPlot[:, :, :] = numpy.nan\n",
    "for s in range(numPredict):\n",
    "    for t in range(TOTAL_TIME - look_back):\n",
    "        ppPredictPlot[s, t + look_back, :] = P_predict[t + s * (TOTAL_TIME - look_back), :]\n",
    "        "
   ]
  },
  {
   "cell_type": "code",
   "execution_count": null,
   "metadata": {},
   "outputs": [],
   "source": [
    "# Output the estimation score\n",
    "Observed_theta, Observed_error, Observed_locRT = [], [], []\n",
    "Estimated_theta, Estimated_error, Estimated_locRT = [], [], []\n",
    "for s in range(numSeries,  numSeries + numPredict):\n",
    "    a_r = a[s] - math.sqrt(h) * sigma[s] / 2.0\n",
    "    for k in range(lentmax):\n",
    "        temp = ppPredictPlot[s - numSeries, k, :]\n",
    "        if (temp[0] ** 2 + temp[1] ** 2 >= a_r ** 2):\n",
    "            Observed_locRT.append(RTloc[s])\n",
    "            Estimated_locRT.append(k)\n",
    "            Observed_theta.append(Response[s])\n",
    "            tt = atan_positive(temp[0], temp[1]) / 2.0 / math.pi * 180\n",
    "            Estimated_theta.append(tt)\n",
    "            Observed_error.append(Error[s])\n",
    "            Estimated_error.append(semicircular_error(tt, Target[s]))\n",
    "            break\n",
    "print len(Observed_error)\n",
    "\n",
    "Res0 = [i * math.pi / 180 for i in Observed_error]\n",
    "Res = [i * math.pi / 180 for i in Estimated_error]\n",
    "Err = Res\n",
    "for i in range((len(Observed_error))):\n",
    "    Err[i] = (semicircular_error(Estimated_error[i], Observed_error[i]) * math.pi / 180) ** 2\n",
    "ResponsePredictionScore = math.sqrt(sum(Err) / len(Err))\n",
    "RT0 = [i * h for i in Observed_locRT]\n",
    "RT = [i * h for i in Estimated_locRT]\n",
    "RTPredictionScore = math.sqrt(mean_squared_error(RT0, RT))\n",
    "            \n",
    "print('Error Estimation Score: %.4f RMSE' % (ResponsePredictionScore))\n",
    "print('RT Estimation Score: %.4f RMSE' % (RTPredictionScore))\n"
   ]
  },
  {
   "cell_type": "code",
   "execution_count": null,
   "metadata": {},
   "outputs": [],
   "source": [
    "# plot Response Error and Reaction Time\n",
    "plt.figure(figsize=(10, 10))\n",
    "plt.style.use('ggplot')\n",
    "plt.xlim(-90, 90)\n",
    "plt.ylim(-90, 90)\n",
    "plt.scatter(Observed_error, Estimated_error, color = 'b')\n",
    "plt.xlabel(\"True Error\")  \n",
    "plt.ylabel(\"Estimated Error\")\n",
    "xx = numpy.linspace(-90, 90, 1000)\n",
    "yy = xx\n",
    "plt.plot(xx, yy, linewidth = 2, color = 'lightgrey')\n",
    "Observed_error = numpy.array(Observed_error)\n",
    "reg = LinearRegression().fit(Observed_error.reshape(-1, 1), Estimated_error)\n",
    "print('R^2 score for regression on Error: %.4f' % (reg.score(Observed_error.reshape(-1, 1), Estimated_error)))\n",
    "print('k = %.4f' % (reg.coef_))\n",
    "pred = reg.predict(Observed_error.reshape(-1, 1))\n",
    "plt.plot(Observed_error, pred, linewidth = 2, color = 'k')\n",
    "plt.show()\n",
    "\n",
    "plt.figure(figsize=(10, 10))\n",
    "plt.style.use('ggplot')\n",
    "plt.xlim(0, tmax)\n",
    "plt.ylim(0, tmax)\n",
    "plt.scatter(RT0, RT, color = 'b')\n",
    "plt.xlabel(\"True RT\")  \n",
    "plt.ylabel(\"Estimated RT\")\n",
    "xx = numpy.linspace(EFFECTIVE_LOC * h, tmax, 1000)\n",
    "yy = xx\n",
    "plt.plot(xx, yy, linewidth = 2, color = 'lightgrey')\n",
    "RT0 = numpy.array(RT0)\n",
    "reg = LinearRegression().fit(RT0.reshape(-1, 1), RT)\n",
    "print('R^2 score for regression on RT: %.4f' % (reg.score(RT0.reshape(-1, 1), RT)))\n",
    "print('k = %.4f' % (reg.coef_))\n",
    "pred = reg.predict(RT0.reshape(-1, 1))\n",
    "plt.plot(RT0, pred, linewidth = 2, color = 'k')\n",
    "plt.axvline((TRAIN_SIZE - 1) * h, linestyle=\"dashed\", linewidth = 2, color='g')\n",
    "plt.axvline(EFFECTIVE_LOC * h, linestyle=\"dashed\", linewidth = 2, color='r')\n",
    "plt.show()\n"
   ]
  }
 ],
 "metadata": {
  "kernelspec": {
   "display_name": "Python 2",
   "language": "python",
   "name": "chkernel"
  },
  "language_info": {
   "codemirror_mode": {
    "name": "ipython",
    "version": 2
   },
   "file_extension": ".py",
   "mimetype": "text/x-python",
   "name": "python",
   "nbconvert_exporter": "python",
   "pygments_lexer": "ipython2",
   "version": "2.7.14"
  }
 },
 "nbformat": 4,
 "nbformat_minor": 2
}
