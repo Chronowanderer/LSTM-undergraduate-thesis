{
 "cells": [
  {
   "cell_type": "code",
   "execution_count": 1,
   "metadata": {},
   "outputs": [
    {
     "name": "stderr",
     "output_type": "stream",
     "text": [
      "/Users/chronowanderer/anaconda3/envs/tensorflow/lib/python2.7/site-packages/h5py/__init__.py:36: FutureWarning: Conversion of the second argument of issubdtype from `float` to `np.floating` is deprecated. In future, it will be treated as `np.float64 == np.dtype(float).type`.\n",
      "  from ._conv import register_converters as _register_converters\n",
      "Using TensorFlow backend.\n"
     ]
    }
   ],
   "source": [
    "import numpy\n",
    "import matplotlib.pyplot as plt\n",
    "import pandas as pd\n",
    "import math\n",
    "from keras.models import Sequential\n",
    "from keras.layers import Dense, Activation\n",
    "from keras.layers import LSTM\n",
    "from keras.optimizers import Adam\n",
    "from sklearn.preprocessing import MinMaxScaler\n",
    "from sklearn.metrics import mean_squared_error\n",
    "from sklearn.linear_model import LinearRegression\n",
    "%matplotlib inline  \n"
   ]
  },
  {
   "cell_type": "code",
   "execution_count": 2,
   "metadata": {},
   "outputs": [],
   "source": [
    "TIME_STEPS = 32\n",
    "HIDDEN_UNITS = 64\n",
    "INPUT_UNITS = 2\n",
    "OUTPUT_UNITS = 180\n",
    "BATCH_SIZE = 32\n",
    "TRAIN_SIZE = 300\n",
    "EFFECTIVE_COEFFICIENT = 0.5\n",
    "EFFECTIVE_LOC = int(TRAIN_SIZE / EFFECTIVE_COEFFICIENT)\n",
    "EPOCH = 10\n",
    "look_back = TIME_STEPS\n",
    "\n",
    "learning_rate = 0.001\n"
   ]
  },
  {
   "cell_type": "code",
   "execution_count": 3,
   "metadata": {},
   "outputs": [],
   "source": [
    "def atan_positive(x, y):\n",
    "    if (x > 0) & (y > 0):\n",
    "        theta = math.atan(y / x)\n",
    "    elif (x == 0) & (y > 0):\n",
    "        theta = math.pi / 2\n",
    "    elif (x < 0):\n",
    "        theta = math.pi + math.atan(y / x)\n",
    "    elif (x == 0) & (y < 0):\n",
    "        theta = 3 * math.pi / 2\n",
    "    elif (x > 0) & (y <= 0):\n",
    "        theta = 2 * math.pi + math.atan(y / x)\n",
    "    return theta\n",
    "\n",
    "def brwnm2(mu1, mu2, a, sigma, h, lentmax):\n",
    "    locRT = 0\n",
    "    theta_T = 999\n",
    "    x = mu1 * h + sigma * numpy.random.randn(lentmax) * math.sqrt(h)\n",
    "    y = mu2 * h + sigma * numpy.random.randn(lentmax) * math.sqrt(h)\n",
    "    a_r = a - math.sqrt(h) * sigma / 2.0\n",
    "    x_start = 0.0\n",
    "    y_start = 0.0\n",
    "    w = [x_start]\n",
    "    z = [y_start] \n",
    "    flag = 0\n",
    "    for k in numpy.arange(1, lentmax):\n",
    "        w.append(w[k - 1] + x[k])\n",
    "        z.append(z[k - 1] + y[k])\n",
    "        if (flag == 0) & (w[k] ** 2 + z[k] ** 2 >= a_r ** 2):\n",
    "            locRT = k\n",
    "            theta_T = atan_positive(w[k], z[k]) / 2.0\n",
    "            flag = 1\n",
    "    return (w, z, theta_T, locRT)\n"
   ]
  },
  {
   "cell_type": "code",
   "execution_count": 4,
   "metadata": {},
   "outputs": [],
   "source": [
    "def semicircular_error(r, t):\n",
    "    e = r - t\n",
    "    if e >= 90:\n",
    "        e = e - 180\n",
    "    elif e < -90:\n",
    "        e = e + 180\n",
    "    return e\n"
   ]
  },
  {
   "cell_type": "code",
   "execution_count": 5,
   "metadata": {},
   "outputs": [
    {
     "name": "stdout",
     "output_type": "stream",
     "text": [
      "(1500000, 2) (300000, 2) (1800000, 2)\n"
     ]
    }
   ],
   "source": [
    "numSeries = 500 # training & testing & sequently predicting\n",
    "numPredict = 100 # complete prediction\n",
    "tmax = 3.0\n",
    "h = 0.001\n",
    "lentmax = int(tmax / h)\n",
    "T = numpy.linspace(0, tmax, lentmax, endpoint = False)\n",
    "DATA_i = 0\n",
    "DATA_f = lentmax - 1\n",
    "norm, a, sigma = [], [], []\n",
    "Target, Response, Error, RTloc = [], [], [], []\n",
    "Dat = []\n",
    "\n",
    "i = 0\n",
    "while i < (numSeries + numPredict):\n",
    "    '''\n",
    "    norm0 = numpy.random.uniform(0.1, 10)\n",
    "    a0 = numpy.random.uniform(0.1, 10)\n",
    "    sigma0 = numpy.random.uniform(0.1, 10)\n",
    "    RESP = numpy.random.randint(0, 180)\n",
    "    '''\n",
    "    norm0 = 1.0\n",
    "    a0 = 1.0\n",
    "    sigma0 = 0.1\n",
    "    RESP = 60\n",
    "    if RESP == 0:\n",
    "        RESP = 180;\n",
    "    mu1 = norm0 * math.cos(2 * RESP * math.pi / 180)\n",
    "    mu2 = norm0 * math.sin(2 * RESP * math.pi / 180)\n",
    "    (L_x, L_y, theta, t_loc) = brwnm2(mu1, mu2, a0, sigma0, h, lentmax)\n",
    "    if t_loc >= EFFECTIVE_LOC:\n",
    "        norm.append(norm0)\n",
    "        a.append(a0)\n",
    "        sigma.append(sigma0)\n",
    "        Target.append(RESP)\n",
    "        Response.append(theta / math.pi * 180)\n",
    "        Error.append(semicircular_error(theta / math.pi * 180, RESP))\n",
    "        RTloc.append(t_loc)\n",
    "        temp = []\n",
    "        for j in numpy.arange(lentmax):\n",
    "            temp.append([L_x[j], L_y[j]])\n",
    "        Dat.append(temp)\n",
    "        i = i + 1\n",
    "\n",
    "Target = numpy.array(Target)\n",
    "Response = numpy.array(Response)\n",
    "Dat = numpy.array(Dat) # all data\n",
    "Data = Dat[0 : numSeries, :, :] # training & testing & sequently predicting\n",
    "Data_p = Dat[numSeries : numSeries + numPredict, :, :] # complete prediction\n",
    "\n",
    "dataset, dataset_t = [], []\n",
    "for i in numpy.arange(numSeries):\n",
    "    for j in numpy.arange(lentmax):\n",
    "        dataset.append(Data[i, j])\n",
    "        dataset_t.append(Data[i, j])\n",
    "dataset = numpy.array(dataset)\n",
    "dataset_p = []\n",
    "for i in numpy.arange(numPredict):\n",
    "    for j in numpy.arange(lentmax):\n",
    "        dataset_p.append(Data_p[i, j])\n",
    "        dataset_t.append(Data_p[i, j])\n",
    "predict = numpy.array(dataset_p)\n",
    "dataset_t = numpy.array(dataset_t)\n",
    "\n",
    "print dataset.shape, predict.shape, dataset_t.shape\n"
   ]
  },
  {
   "cell_type": "code",
   "execution_count": 6,
   "metadata": {},
   "outputs": [],
   "source": [
    "# convert an array of values into a dataset matrix\n",
    "def create_dataset(series, size, dataset, look_back, output):\n",
    "    dataX, dataY = [], []\n",
    "    for k in range(series):\n",
    "        kk = k * size\n",
    "        Out = numpy.zeros(180)\n",
    "        if (output[k] == 180):\n",
    "            Out[0] = 1\n",
    "        else:\n",
    "            Out[int(output[k])] = 1\n",
    "        for i in range(size - look_back):\n",
    "            a = dataset[(kk+i) : (kk+i+look_back), :]\n",
    "            dataX.append(a)            \n",
    "            dataY.append(Out)\n",
    "    return numpy.array(dataX), numpy.array(dataY)\n"
   ]
  },
  {
   "cell_type": "code",
   "execution_count": 7,
   "metadata": {},
   "outputs": [
    {
     "name": "stdout",
     "output_type": "stream",
     "text": [
      "(150000, 2) (1366000, 2) (300000, 2)\n",
      "(134000, 32, 2) (134000, 180)\n",
      "(1350000, 32, 2) (1350000, 180)\n",
      "(100, 32, 2) (100, 180)\n"
     ]
    }
   ],
   "source": [
    "TOTAL_TIME = Data.shape[1]\n",
    "\n",
    "# normalize the dataset\n",
    "scaler = MinMaxScaler(feature_range=(0, 1))\n",
    "dataset_t = scaler.fit_transform(dataset_t)\n",
    "dataset = dataset_t[0:numSeries*lentmax, :]\n",
    "predict = dataset_t[numSeries*lentmax:(numSeries+numPredict)*lentmax, :]\n",
    "\n",
    "# split into train and test sets\n",
    "train_size = TRAIN_SIZE\n",
    "test_size = TOTAL_TIME - train_size + look_back\n",
    "train, test = [], []\n",
    "for k in range(numSeries):\n",
    "    kk = k * TOTAL_TIME\n",
    "    for t in range(kk, kk+train_size):\n",
    "        train.append(dataset[t, :])\n",
    "    for t in range(kk+train_size-look_back, kk+TOTAL_TIME):\n",
    "        test.append(dataset[t, :])\n",
    "train = numpy.array(train)\n",
    "test = numpy.array(test)\n",
    "        \n",
    "print train.shape, test.shape, predict.shape\n",
    "\n",
    "Result = Response\n",
    "# use this function to prepare the train and test datasets for modeling\n",
    "trainX, trainY = create_dataset(numSeries, train_size, train, look_back, Result[0:numSeries])\n",
    "testX, testY = create_dataset(numSeries, test_size, test, look_back, Result[0:numSeries])\n",
    "predictX, predictY = create_dataset(numPredict, look_back + 1, predict, look_back, Result[numSeries:numSeries+numPredict])\n",
    "\n",
    "# reshape input to be [samples, time steps, features]\n",
    "trainX = numpy.reshape(trainX, (trainX.shape[0], look_back, trainX.shape[2]))\n",
    "testX = numpy.reshape(testX, (testX.shape[0], look_back, testX.shape[2]))\n",
    "predictX = numpy.reshape(predictX, (predictX.shape[0], look_back, predictX.shape[2]))\n",
    "\n",
    "print trainX.shape, trainY.shape\n",
    "print testX.shape, testY.shape\n",
    "print predictX.shape, predictY.shape\n"
   ]
  },
  {
   "cell_type": "code",
   "execution_count": 8,
   "metadata": {},
   "outputs": [
    {
     "name": "stdout",
     "output_type": "stream",
     "text": [
      "Epoch 1/10\n",
      " - 96s - loss: 2.4845 - acc: 0.1290\n",
      "Epoch 2/10\n",
      " - 100s - loss: 2.4662 - acc: 0.1291\n",
      "Epoch 3/10\n",
      " - 96s - loss: 2.4652 - acc: 0.1311\n",
      "Epoch 4/10\n",
      " - 93s - loss: 2.4652 - acc: 0.1313\n",
      "Epoch 5/10\n",
      " - 92s - loss: 2.4649 - acc: 0.1315\n",
      "Epoch 6/10\n",
      " - 93s - loss: 2.4647 - acc: 0.1300\n",
      "Epoch 7/10\n",
      " - 93s - loss: 2.4650 - acc: 0.1304\n",
      "Epoch 8/10\n",
      " - 95s - loss: 2.4652 - acc: 0.1316\n",
      "Epoch 9/10\n",
      " - 93s - loss: 2.4649 - acc: 0.1321\n",
      "Epoch 10/10\n",
      " - 93s - loss: 2.4651 - acc: 0.1306\n",
      "('LSTM test score:', 2.465755008502536)\n",
      "('LSTM test accuracy:', 0.134)\n",
      "('LSTM predict score:', 2.479766969680786)\n",
      "('LSTM predict accuracy:', 0.17)\n"
     ]
    }
   ],
   "source": [
    "# create and fit the LSTM network\n",
    "model = Sequential()\n",
    "model.add(LSTM(HIDDEN_UNITS, input_shape=(look_back, INPUT_UNITS)))\n",
    "model.add(Dense(OUTPUT_UNITS))\n",
    "model.add(Activation('softmax'))\n",
    "adam = Adam(lr = learning_rate)   \n",
    "model.compile(optimizer = adam, loss = 'categorical_crossentropy', metrics = ['accuracy'])\n",
    "model.fit(trainX, trainY, epochs = EPOCH, batch_size = BATCH_SIZE, verbose = 2)\n",
    "\n",
    "scores = model.evaluate(testX, testY, verbose = 2)\n",
    "print('LSTM test score:', scores[0])\n",
    "print('LSTM test accuracy:', scores[1])\n",
    "\n",
    "scores_p = model.evaluate(predictX, predictY, verbose = 2)\n",
    "print('LSTM predict score:', scores_p[0])\n",
    "print('LSTM predict accuracy:', scores_p[1])\n"
   ]
  },
  {
   "cell_type": "code",
   "execution_count": 9,
   "metadata": {},
   "outputs": [
    {
     "name": "stdout",
     "output_type": "stream",
     "text": [
      "[[7.5096401e-11 7.2995721e-11 7.8417606e-11 ... 7.5429586e-11\n",
      "  7.4557346e-11 7.7001558e-11]\n",
      " [7.5096401e-11 7.2995721e-11 7.8417606e-11 ... 7.5429586e-11\n",
      "  7.4557346e-11 7.7001558e-11]\n",
      " [7.5096401e-11 7.2995721e-11 7.8417606e-11 ... 7.5429586e-11\n",
      "  7.4557346e-11 7.7001558e-11]\n",
      " ...\n",
      " [7.5096401e-11 7.2995721e-11 7.8417606e-11 ... 7.5429586e-11\n",
      "  7.4557346e-11 7.7001558e-11]\n",
      " [7.5096401e-11 7.2995721e-11 7.8417606e-11 ... 7.5429586e-11\n",
      "  7.4557346e-11 7.7001558e-11]\n",
      " [7.5096401e-11 7.2995721e-11 7.8417606e-11 ... 7.5429586e-11\n",
      "  7.4557346e-11 7.7001558e-11]]\n"
     ]
    }
   ],
   "source": [
    "# make predictions\n",
    "trainPredict = model.predict(trainX)\n",
    "testPredict = model.predict(testX)\n",
    "predictPredict = model.predict(predictX)\n",
    "\n",
    "print predictPredict\n"
   ]
  },
  {
   "cell_type": "code",
   "execution_count": 11,
   "metadata": {},
   "outputs": [
    {
     "data": {
      "image/png": "[encoded data removed]",
      "text/plain": [
       "<Figure size 432x288 with 1 Axes>"
      ]
     },
     "metadata": {},
     "output_type": "display_data"
    }
   ],
   "source": [
    "Observation = Response[numSeries : numSeries + numPredict]\n",
    "Prediction = numpy.argmax(predictPredict, axis = 1)\n",
    "plt.xlim(0, OUTPUT_UNITS)\n",
    "plt.hist(Observation, bins = OUTPUT_UNITS, normed = 1, edgecolor = 'None' , facecolor = 'b' , alpha = 0.5)\n",
    "plt.hist(Prediction, bins = OUTPUT_UNITS, normed = 1, edgecolor = 'None' , facecolor = 'r' , alpha = 0.5)\n",
    "plt.axvline(RESP, linestyle = 'dashed', linewidth = 2, color='g')\n",
    "plt.show()\n"
   ]
  },
  {
   "cell_type": "code",
   "execution_count": null,
   "metadata": {},
   "outputs": [],
   "source": []
  }
 ],
 "metadata": {
  "kernelspec": {
   "display_name": "Python 2",
   "language": "python",
   "name": "chkernel"
  },
  "language_info": {
   "codemirror_mode": {
    "name": "ipython",
    "version": 2
   },
   "file_extension": ".py",
   "mimetype": "text/x-python",
   "name": "python",
   "nbconvert_exporter": "python",
   "pygments_lexer": "ipython2",
   "version": "2.7.14"
  }
 },
 "nbformat": 4,
 "nbformat_minor": 2
}
