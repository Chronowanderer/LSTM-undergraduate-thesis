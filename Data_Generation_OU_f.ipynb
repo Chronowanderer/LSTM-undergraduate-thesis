{
 "cells": [
  {
   "cell_type": "code",
   "execution_count": 1,
   "metadata": {},
   "outputs": [],
   "source": [
    "import numpy\n",
    "import matplotlib.pyplot as plt\n",
    "import pandas as pd\n",
    "import math\n"
   ]
  },
  {
   "cell_type": "code",
   "execution_count": 2,
   "metadata": {},
   "outputs": [
    {
     "name": "stdout",
     "output_type": "stream",
     "text": [
      "Stored 'numSeries' (int)\n",
      "Stored 'numPredict' (int)\n",
      "Stored 'TRAIN_SIZE' (int)\n",
      "Stored 'EFFECTIVE_COEFFICIENT' (float)\n",
      "Stored 'EFFECTIVE_LOC' (int)\n",
      "Stored 'tmax' (float)\n",
      "Stored 'h' (float)\n",
      "Stored 'lentmax' (int)\n"
     ]
    }
   ],
   "source": [
    "numSeries = 500 # training & testing & sequently predicting\n",
    "numPredict = 100 # complete prediction\n",
    "TRAIN_SIZE = 100\n",
    "EFFECTIVE_COEFFICIENT = 0.25\n",
    "EFFECTIVE_LOC = int(TRAIN_SIZE / EFFECTIVE_COEFFICIENT)\n",
    "tmax = 2.0\n",
    "h = 0.001\n",
    "lentmax = int(tmax / h)\n",
    "\n",
    "%store numSeries\n",
    "%store numPredict\n",
    "%store TRAIN_SIZE\n",
    "%store EFFECTIVE_COEFFICIENT\n",
    "%store EFFECTIVE_LOC\n",
    "%store tmax\n",
    "%store h\n",
    "%store lentmax\n"
   ]
  },
  {
   "cell_type": "code",
   "execution_count": 3,
   "metadata": {},
   "outputs": [],
   "source": [
    "def semicircular_error(r, t):\n",
    "    e = r - t\n",
    "    if e >= 90:\n",
    "        e = e - 180\n",
    "    elif e < -90:\n",
    "        e = e + 180\n",
    "    return e\n",
    "\n",
    "def atan_positive(x, y):\n",
    "    if (x > 0) & (y > 0):\n",
    "        theta = math.atan(y / x)\n",
    "    elif (x == 0) & (y > 0):\n",
    "        theta = math.pi / 2\n",
    "    elif (x < 0):\n",
    "        theta = math.pi + math.atan(y / x)\n",
    "    elif (x == 0) & (y < 0):\n",
    "        theta = 3 * math.pi / 2\n",
    "    elif (x > 0) & (y <= 0):\n",
    "        theta = 2 * math.pi + math.atan(y / x)\n",
    "    return theta\n",
    "\n",
    "def oup2(mu1, mu2, a, sigma, tau, h, lentmax):\n",
    "    locRT = 0\n",
    "    theta_T = 999\n",
    "    x = tau * mu1 * h + sigma * numpy.random.randn(lentmax) * math.sqrt(h)\n",
    "    y = tau * mu2 * h + sigma * numpy.random.randn(lentmax) * math.sqrt(h)\n",
    "    a_r = a - math.sqrt(h) * sigma / 2.0\n",
    "    x_start = 0.0\n",
    "    y_start = 0.0\n",
    "    w = [x_start]\n",
    "    z = [y_start] \n",
    "    flag = 0\n",
    "    for k in numpy.arange(1, lentmax):\n",
    "        w.append(w[k - 1] + x[k] - tau * w[k - 1] * h)\n",
    "        z.append(z[k - 1] + y[k] - tau * z[k - 1] * h)\n",
    "        if (flag == 0) & (w[k] ** 2 + z[k] ** 2 >= a_r ** 2):\n",
    "            locRT = k\n",
    "            theta_T = atan_positive(w[k], z[k]) / 2.0\n",
    "            flag = 1\n",
    "    return (w, z, theta_T, locRT)\n"
   ]
  },
  {
   "cell_type": "code",
   "execution_count": 4,
   "metadata": {},
   "outputs": [],
   "source": [
    "norm, a, sigma, tau = [], [], [], []\n",
    "Target, Response, Error, RTloc = [], [], [], []\n",
    "Dat = []\n",
    "\n",
    "i = 0\n",
    "while i < (numSeries + numPredict):\n",
    "    '''\n",
    "    norm0 = numpy.random.uniform(0.1, 10)\n",
    "    a0 = numpy.random.uniform(0.1, 10)\n",
    "    sigma0 = numpy.random.uniform(0.1, 10)\n",
    "    tau0 = numpy.random.uniform(0.1, 10)\n",
    "    RESP = numpy.random.randint(0, 180)\n",
    "    '''\n",
    "    norm0 = 1.0\n",
    "    a0 = 1.0\n",
    "    sigma0 = 1.0\n",
    "    tau0 = 1.0\n",
    "    RESP = 60\n",
    "    if RESP == 0:\n",
    "        RESP = 180;\n",
    "    mu1 = norm0 * math.cos(2 * RESP * math.pi / 180)\n",
    "    mu2 = norm0 * math.sin(2 * RESP * math.pi / 180)\n",
    "    (L_x, L_y, theta, t_loc) = oup2(mu1, mu2, a0, sigma0, tau0, h, lentmax)\n",
    "    if t_loc >= EFFECTIVE_LOC:\n",
    "        norm.append(norm0)\n",
    "        a.append(a0)\n",
    "        sigma.append(sigma0)\n",
    "        Target.append(RESP)\n",
    "        Response.append(theta / math.pi * 180)\n",
    "        Error.append(semicircular_error(theta / math.pi * 180, RESP))\n",
    "        RTloc.append(t_loc)\n",
    "        temp = []\n",
    "        for j in numpy.arange(lentmax):\n",
    "            temp.append([L_x[j], L_y[j]])\n",
    "        Dat.append(temp)\n",
    "        i = i + 1\n"
   ]
  },
  {
   "cell_type": "code",
   "execution_count": 5,
   "metadata": {},
   "outputs": [
    {
     "name": "stdout",
     "output_type": "stream",
     "text": [
      "Stored 'norm' (list)\n",
      "Stored 'a' (list)\n",
      "Stored 'sigma' (list)\n",
      "Stored 'tau' (list)\n",
      "Stored 'Target' (list)\n",
      "Stored 'Response' (list)\n",
      "Stored 'Error' (list)\n",
      "Stored 'RTloc' (list)\n",
      "Stored 'Dat' (list)\n",
      "Finish!\n"
     ]
    }
   ],
   "source": [
    "%store norm\n",
    "%store a\n",
    "%store sigma\n",
    "%store tau\n",
    "%store Target\n",
    "%store Response\n",
    "%store Error\n",
    "%store RTloc\n",
    "%store Dat\n",
    "\n",
    "print \"Finish!\"\n"
   ]
  },
  {
   "cell_type": "code",
   "execution_count": 6,
   "metadata": {},
   "outputs": [
    {
     "name": "stderr",
     "output_type": "stream",
     "text": [
      "/Users/chronowanderer/anaconda3/envs/tensorflow/lib/python2.7/site-packages/matplotlib/axes/_axes.py:6462: UserWarning: The 'normed' kwarg is deprecated, and has been replaced by the 'density' kwarg.\n",
      "  warnings.warn(\"The 'normed' kwarg is deprecated, and has been \"\n"
     ]
    },
    {
     "data": {
      "image/png": "[encoded data removed]",
      "text/plain": [
       "<Figure size 432x288 with 1 Axes>"
      ]
     },
     "metadata": {},
     "output_type": "display_data"
    },
    {
     "data": {
      "image/png": "[encoded data removed]",
      "text/plain": [
       "<Figure size 432x288 with 1 Axes>"
      ]
     },
     "metadata": {},
     "output_type": "display_data"
    },
    {
     "data": {
      "image/png": "[encoded data removed]",
      "text/plain": [
       "<Figure size 432x288 with 1 Axes>"
      ]
     },
     "metadata": {},
     "output_type": "display_data"
    },
    {
     "data": {
      "image/png": "[encoded data removed]",
      "text/plain": [
       "<Figure size 432x288 with 1 Axes>"
      ]
     },
     "metadata": {},
     "output_type": "display_data"
    },
    {
     "data": {
      "image/png": "[encoded data removed]",
      "text/plain": [
       "<Figure size 432x288 with 1 Axes>"
      ]
     },
     "metadata": {},
     "output_type": "display_data"
    },
    {
     "data": {
      "image/png": "[encoded data removed]",
      "text/plain": [
       "<Figure size 432x288 with 1 Axes>"
      ]
     },
     "metadata": {},
     "output_type": "display_data"
    },
    {
     "data": {
      "image/png": "[encoded data removed]",
      "text/plain": [
       "<Figure size 432x288 with 1 Axes>"
      ]
     },
     "metadata": {},
     "output_type": "display_data"
    },
    {
     "data": {
      "image/png": "[encoded data removed]",
      "text/plain": [
       "<Figure size 432x288 with 1 Axes>"
      ]
     },
     "metadata": {},
     "output_type": "display_data"
    }
   ],
   "source": [
    "plt.hist(norm, 50, normed=False)\n",
    "plt.show()\n",
    "plt.hist(a, 50, normed=False)\n",
    "plt.show()\n",
    "plt.hist(sigma, 50, normed=False)\n",
    "plt.show()\n",
    "plt.hist(tau, 50, normed=False)\n",
    "plt.show()\n",
    "plt.hist(Target, 90, normed=False)\n",
    "plt.show()\n",
    "plt.hist(Response, 90, normed=False)\n",
    "plt.show()\n",
    "plt.hist(Error, 90, normed=False)\n",
    "plt.show()\n",
    "plt.hist(RTloc, 50, normed=False)\n",
    "plt.show()\n"
   ]
  },
  {
   "cell_type": "code",
   "execution_count": null,
   "metadata": {},
   "outputs": [],
   "source": []
  }
 ],
 "metadata": {
  "kernelspec": {
   "display_name": "Python 2",
   "language": "python",
   "name": "chkernel"
  },
  "language_info": {
   "codemirror_mode": {
    "name": "ipython",
    "version": 2
   },
   "file_extension": ".py",
   "mimetype": "text/x-python",
   "name": "python",
   "nbconvert_exporter": "python",
   "pygments_lexer": "ipython2",
   "version": "2.7.14"
  }
 },
 "nbformat": 4,
 "nbformat_minor": 2
}
